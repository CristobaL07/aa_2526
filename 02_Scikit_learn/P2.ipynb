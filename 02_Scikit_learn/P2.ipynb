{
 "cells": [
  {
   "metadata": {},
   "cell_type": "markdown",
   "source": [
    "# Pràctica II - Perceptron amb Scikit-learn\n",
    "\n",
    "En la sessió anterior hem implementat i entrenat un perceptró des de zero, analitzant pas a pas el seu funcionament intern. Ara, donarem un pas més i treballarem amb la implementació ja disponible a la llibreria scikit-learn, que ens permetrà concentrar-nos en el procés d’aplicació del model a un conjunt de dades real.\n",
    "\n",
    "Per tal d’il·lustrar-ho, farem servir el problema del Titanic, que ja coneixeu del curs anterior. L’objectiu és predir si un passatger va sobreviure o no al naufragi a partir d’algunes de les seves característiques (edat, sexe, classe del bitllet, etc.).\n",
    "\n",
    "Tasques a realitzar\n",
    "\n",
    "1. Carregar i preparar les dades\n",
    "   - Importar el conjunt de dades del Titanic.\n",
    "   - Seleccionar les variables més rellevants i realitzar els preprocessaments necessaris (tractament de valors NaNs, codificació de variables categòriques i normalització).\n",
    "   - Dividir les dades en conjunts d’entrenament i validació.\n",
    "\n",
    "2. Definir i entrenar el model\n",
    "   - Utilitzar la classe Perceptron de ``sklearn.linear_model``.\n",
    "   - Ajustar el model amb les dades d’entrenament.\n",
    "   - Utilitzar el perceptró implementat la sessió anterior per comparar resultats.\n",
    "\n",
    "3. Avaluar el rendiment\n",
    "   - Calcular la *accuracy* sobre les dades de validació.\n",
    "   - Analitzar la matriu de confusió per entendre millor els encerts i errors del model.\n",
    "   - Comparar els resultats de ``scikit-learn`` amb la vostra implementació prèvia."
   ],
   "id": "15bb3b11a2648c42"
  },
  {
   "metadata": {
    "ExecuteTime": {
     "end_time": "2025-09-24T10:02:58.879026Z",
     "start_time": "2025-09-24T10:02:58.861614Z"
    }
   },
   "cell_type": "code",
   "source": [
    "import pandas as pd\n",
    "from sklearn.metrics import accuracy_score, confusion_matrix\n",
    "from sklearn.model_selection import train_test_split\n",
    "from sklearn.preprocessing import MinMaxScaler\n",
    "from sklearn.linear_model import Perceptron"
   ],
   "id": "f77ef88d2fbacc18",
   "outputs": [],
   "execution_count": 167
  },
  {
   "metadata": {},
   "cell_type": "markdown",
   "source": "Podeu trobar les dades del Titanic a [Kaggle](https://www.kaggle.com/competitions/titanic/overview).",
   "id": "55c2819c1c86f7c0"
  },
  {
   "metadata": {
    "ExecuteTime": {
     "end_time": "2025-09-24T10:02:58.986969Z",
     "start_time": "2025-09-24T10:02:58.942683Z"
    }
   },
   "cell_type": "code",
   "source": [
    "df = pd.read_csv(\"train.csv\")\n",
    "\n",
    "print(df.head)"
   ],
   "id": "45f95cc6b75bccce",
   "outputs": [
    {
     "name": "stdout",
     "output_type": "stream",
     "text": [
      "<bound method NDFrame.head of      PassengerId  Survived  Pclass  \\\n",
      "0              1         0       3   \n",
      "1              2         1       1   \n",
      "2              3         1       3   \n",
      "3              4         1       1   \n",
      "4              5         0       3   \n",
      "..           ...       ...     ...   \n",
      "886          887         0       2   \n",
      "887          888         1       1   \n",
      "888          889         0       3   \n",
      "889          890         1       1   \n",
      "890          891         0       3   \n",
      "\n",
      "                                                  Name     Sex   Age  SibSp  \\\n",
      "0                              Braund, Mr. Owen Harris    male  22.0      1   \n",
      "1    Cumings, Mrs. John Bradley (Florence Briggs Th...  female  38.0      1   \n",
      "2                               Heikkinen, Miss. Laina  female  26.0      0   \n",
      "3         Futrelle, Mrs. Jacques Heath (Lily May Peel)  female  35.0      1   \n",
      "4                             Allen, Mr. William Henry    male  35.0      0   \n",
      "..                                                 ...     ...   ...    ...   \n",
      "886                              Montvila, Rev. Juozas    male  27.0      0   \n",
      "887                       Graham, Miss. Margaret Edith  female  19.0      0   \n",
      "888           Johnston, Miss. Catherine Helen \"Carrie\"  female   NaN      1   \n",
      "889                              Behr, Mr. Karl Howell    male  26.0      0   \n",
      "890                                Dooley, Mr. Patrick    male  32.0      0   \n",
      "\n",
      "     Parch            Ticket     Fare Cabin Embarked  \n",
      "0        0         A/5 21171   7.2500   NaN        S  \n",
      "1        0          PC 17599  71.2833   C85        C  \n",
      "2        0  STON/O2. 3101282   7.9250   NaN        S  \n",
      "3        0            113803  53.1000  C123        S  \n",
      "4        0            373450   8.0500   NaN        S  \n",
      "..     ...               ...      ...   ...      ...  \n",
      "886      0            211536  13.0000   NaN        S  \n",
      "887      0            112053  30.0000   B42        S  \n",
      "888      2        W./C. 6607  23.4500   NaN        S  \n",
      "889      0            111369  30.0000  C148        C  \n",
      "890      0            370376   7.7500   NaN        Q  \n",
      "\n",
      "[891 rows x 12 columns]>\n"
     ]
    }
   ],
   "execution_count": 168
  },
  {
   "metadata": {},
   "cell_type": "markdown",
   "source": [
    "## Neteja de dades\n",
    "\n",
    "### Codificació de variables categòriques\n",
    "\n",
    "Farem servir la codificació *one-hot* per a les variables categòriques, ``pandas`` té una funció que ens ho facilita: ``get_dummies()``."
   ],
   "id": "3cbf8201ac2a8318"
  },
  {
   "metadata": {
    "ExecuteTime": {
     "end_time": "2025-09-24T10:02:59.057411Z",
     "start_time": "2025-09-24T10:02:59.038957Z"
    }
   },
   "cell_type": "code",
   "source": [
    "df = df.drop([\"PassengerId\", \"Name\", \"Ticket\", \"Fare\", \"Cabin\"], axis=1)\n",
    "\n",
    "print(df.head)"
   ],
   "id": "1653770b3a2cd691",
   "outputs": [
    {
     "name": "stdout",
     "output_type": "stream",
     "text": [
      "<bound method NDFrame.head of      Survived  Pclass     Sex   Age  SibSp  Parch Embarked\n",
      "0           0       3    male  22.0      1      0        S\n",
      "1           1       1  female  38.0      1      0        C\n",
      "2           1       3  female  26.0      0      0        S\n",
      "3           1       1  female  35.0      1      0        S\n",
      "4           0       3    male  35.0      0      0        S\n",
      "..        ...     ...     ...   ...    ...    ...      ...\n",
      "886         0       2    male  27.0      0      0        S\n",
      "887         1       1  female  19.0      0      0        S\n",
      "888         0       3  female   NaN      1      2        S\n",
      "889         1       1    male  26.0      0      0        C\n",
      "890         0       3    male  32.0      0      0        Q\n",
      "\n",
      "[891 rows x 7 columns]>\n"
     ]
    }
   ],
   "execution_count": 169
  },
  {
   "metadata": {},
   "cell_type": "markdown",
   "source": [
    "### Eliminació de les columnes sense informació\n",
    "\n",
    "Hi ha algunes columnes que no aporten informació rellevant per a la predicció, com ara el nom del passatger o el número del bitllet. Les hem d'eliminar."
   ],
   "id": "f85428816e316096"
  },
  {
   "metadata": {
    "ExecuteTime": {
     "end_time": "2025-09-24T10:02:59.133159Z",
     "start_time": "2025-09-24T10:02:59.114857Z"
    }
   },
   "cell_type": "code",
   "source": [
    "df = pd.get_dummies(df)\n",
    "\n",
    "print(df.head)"
   ],
   "id": "25897648be7990c5",
   "outputs": [
    {
     "name": "stdout",
     "output_type": "stream",
     "text": [
      "<bound method NDFrame.head of      Survived  Pclass   Age  SibSp  Parch  Sex_female  Sex_male  Embarked_C  \\\n",
      "0           0       3  22.0      1      0       False      True       False   \n",
      "1           1       1  38.0      1      0        True     False        True   \n",
      "2           1       3  26.0      0      0        True     False       False   \n",
      "3           1       1  35.0      1      0        True     False       False   \n",
      "4           0       3  35.0      0      0       False      True       False   \n",
      "..        ...     ...   ...    ...    ...         ...       ...         ...   \n",
      "886         0       2  27.0      0      0       False      True       False   \n",
      "887         1       1  19.0      0      0        True     False       False   \n",
      "888         0       3   NaN      1      2        True     False       False   \n",
      "889         1       1  26.0      0      0       False      True        True   \n",
      "890         0       3  32.0      0      0       False      True       False   \n",
      "\n",
      "     Embarked_Q  Embarked_S  \n",
      "0         False        True  \n",
      "1         False       False  \n",
      "2         False        True  \n",
      "3         False        True  \n",
      "4         False        True  \n",
      "..          ...         ...  \n",
      "886       False        True  \n",
      "887       False        True  \n",
      "888       False        True  \n",
      "889       False       False  \n",
      "890        True       False  \n",
      "\n",
      "[891 rows x 10 columns]>\n"
     ]
    }
   ],
   "execution_count": 170
  },
  {
   "metadata": {},
   "cell_type": "markdown",
   "source": [
    "### Normalitzam les dades\n",
    "\n",
    "Hem de normalitzar les dades per tal que totes les característiques tinguin la mateixa escala. Això és especialment important per a algorismes com el perceptró, que són sensibles a la magnitud de les característiques."
   ],
   "id": "8fc207eb2c3aa1be"
  },
  {
   "metadata": {
    "ExecuteTime": {
     "end_time": "2025-09-24T10:02:59.210469Z",
     "start_time": "2025-09-24T10:02:59.177939Z"
    }
   },
   "cell_type": "code",
   "source": [
    "scaler = MinMaxScaler()\n",
    "df_normalized = pd.DataFrame(scaler.fit_transform(df), columns=df.columns)\n",
    "\n",
    "print(df_normalized)"
   ],
   "id": "5c44435fa00147f9",
   "outputs": [
    {
     "name": "stdout",
     "output_type": "stream",
     "text": [
      "     Survived  Pclass       Age  SibSp     Parch  Sex_female  Sex_male  \\\n",
      "0         0.0     1.0  0.271174  0.125  0.000000         0.0       1.0   \n",
      "1         1.0     0.0  0.472229  0.125  0.000000         1.0       0.0   \n",
      "2         1.0     1.0  0.321438  0.000  0.000000         1.0       0.0   \n",
      "3         1.0     0.0  0.434531  0.125  0.000000         1.0       0.0   \n",
      "4         0.0     1.0  0.434531  0.000  0.000000         0.0       1.0   \n",
      "..        ...     ...       ...    ...       ...         ...       ...   \n",
      "886       0.0     0.5  0.334004  0.000  0.000000         0.0       1.0   \n",
      "887       1.0     0.0  0.233476  0.000  0.000000         1.0       0.0   \n",
      "888       0.0     1.0       NaN  0.125  0.333333         1.0       0.0   \n",
      "889       1.0     0.0  0.321438  0.000  0.000000         0.0       1.0   \n",
      "890       0.0     1.0  0.396833  0.000  0.000000         0.0       1.0   \n",
      "\n",
      "     Embarked_C  Embarked_Q  Embarked_S  \n",
      "0           0.0         0.0         1.0  \n",
      "1           1.0         0.0         0.0  \n",
      "2           0.0         0.0         1.0  \n",
      "3           0.0         0.0         1.0  \n",
      "4           0.0         0.0         1.0  \n",
      "..          ...         ...         ...  \n",
      "886         0.0         0.0         1.0  \n",
      "887         0.0         0.0         1.0  \n",
      "888         0.0         0.0         1.0  \n",
      "889         1.0         0.0         0.0  \n",
      "890         0.0         1.0         0.0  \n",
      "\n",
      "[891 rows x 10 columns]\n"
     ]
    }
   ],
   "execution_count": 171
  },
  {
   "metadata": {},
   "cell_type": "markdown",
   "source": [
    "### Tractament de valors NaN\n",
    "\n",
    "Els valors NaN els hem de tractar abans d'entrenar el model. Podem optar per eliminar les files amb valors NaN o bé imputar-los amb la mitjana, mediana o moda de la columna. Pandas ens ofereix diverses funcions per fer-ho. Per exemple, podem utilitzar ``fillna()`` per imputar valors, o ``dropna()`` per eliminar files amb valors NaN."
   ],
   "id": "122c880687254839"
  },
  {
   "metadata": {
    "ExecuteTime": {
     "end_time": "2025-09-24T10:02:59.297683Z",
     "start_time": "2025-09-24T10:02:59.275693Z"
    }
   },
   "cell_type": "code",
   "source": [
    "df_normalized[\"Age\"] = df_normalized[\"Age\"].fillna(df_normalized[\"Age\"].median())\n",
    "\n",
    "print(df_normalized.head)"
   ],
   "id": "d9cce64b0c80cb8e",
   "outputs": [
    {
     "name": "stdout",
     "output_type": "stream",
     "text": [
      "<bound method NDFrame.head of      Survived  Pclass       Age  SibSp     Parch  Sex_female  Sex_male  \\\n",
      "0         0.0     1.0  0.271174  0.125  0.000000         0.0       1.0   \n",
      "1         1.0     0.0  0.472229  0.125  0.000000         1.0       0.0   \n",
      "2         1.0     1.0  0.321438  0.000  0.000000         1.0       0.0   \n",
      "3         1.0     0.0  0.434531  0.125  0.000000         1.0       0.0   \n",
      "4         0.0     1.0  0.434531  0.000  0.000000         0.0       1.0   \n",
      "..        ...     ...       ...    ...       ...         ...       ...   \n",
      "886       0.0     0.5  0.334004  0.000  0.000000         0.0       1.0   \n",
      "887       1.0     0.0  0.233476  0.000  0.000000         1.0       0.0   \n",
      "888       0.0     1.0  0.346569  0.125  0.333333         1.0       0.0   \n",
      "889       1.0     0.0  0.321438  0.000  0.000000         0.0       1.0   \n",
      "890       0.0     1.0  0.396833  0.000  0.000000         0.0       1.0   \n",
      "\n",
      "     Embarked_C  Embarked_Q  Embarked_S  \n",
      "0           0.0         0.0         1.0  \n",
      "1           1.0         0.0         0.0  \n",
      "2           0.0         0.0         1.0  \n",
      "3           0.0         0.0         1.0  \n",
      "4           0.0         0.0         1.0  \n",
      "..          ...         ...         ...  \n",
      "886         0.0         0.0         1.0  \n",
      "887         0.0         0.0         1.0  \n",
      "888         0.0         0.0         1.0  \n",
      "889         1.0         0.0         0.0  \n",
      "890         0.0         1.0         0.0  \n",
      "\n",
      "[891 rows x 10 columns]>\n"
     ]
    }
   ],
   "execution_count": 172
  },
  {
   "metadata": {},
   "cell_type": "markdown",
   "source": [
    "### Divisió del conjunt de dades\n",
    "\n",
    "Separarem les dades en un conjunt d'entrenament i un de validació. Això ens permetrà avaluar el rendiment del model en dades que no ha vist durant l'entrenament. S'utilitza la funció ``train_test_split()`` de ``sklearn.model_selection``."
   ],
   "id": "274ec24c5f7c94b1"
  },
  {
   "metadata": {
    "ExecuteTime": {
     "end_time": "2025-09-24T10:02:59.375210Z",
     "start_time": "2025-09-24T10:02:59.338958Z"
    }
   },
   "cell_type": "code",
   "source": [
    "x = df_normalized.drop(columns=[\"Survived\"], axis=1)\n",
    "y = df_normalized[\"Survived\"]\n",
    "\n",
    "x_train, x_val, y_train, y_val = train_test_split(\n",
    "    x, y, test_size=0.25, random_state=42\n",
    ")\n",
    "\n",
    "print(\"X_train:\")\n",
    "print(x_train)\n",
    "print(\"\\nX_val:\")\n",
    "print(x_val)"
   ],
   "id": "72bb13186a72271d",
   "outputs": [
    {
     "name": "stdout",
     "output_type": "stream",
     "text": [
      "X_train:\n",
      "     Pclass       Age  SibSp     Parch  Sex_female  Sex_male  Embarked_C  \\\n",
      "298     0.0  0.346569  0.000  0.000000         0.0       1.0         0.0   \n",
      "884     1.0  0.308872  0.000  0.000000         0.0       1.0         0.0   \n",
      "247     0.5  0.296306  0.000  0.333333         1.0       0.0         0.0   \n",
      "478     1.0  0.271174  0.000  0.000000         0.0       1.0         0.0   \n",
      "305     0.0  0.006283  0.125  0.333333         0.0       1.0         0.0   \n",
      "..      ...       ...    ...       ...         ...       ...         ...   \n",
      "106     1.0  0.258608  0.000  0.000000         1.0       0.0         0.0   \n",
      "270     0.0  0.346569  0.000  0.000000         0.0       1.0         0.0   \n",
      "860     1.0  0.509927  0.250  0.000000         0.0       1.0         0.0   \n",
      "435     0.0  0.170646  0.125  0.333333         1.0       0.0         0.0   \n",
      "102     0.0  0.258608  0.000  0.166667         0.0       1.0         0.0   \n",
      "\n",
      "     Embarked_Q  Embarked_S  \n",
      "298         0.0         1.0  \n",
      "884         0.0         1.0  \n",
      "247         0.0         1.0  \n",
      "478         0.0         1.0  \n",
      "305         0.0         1.0  \n",
      "..          ...         ...  \n",
      "106         0.0         1.0  \n",
      "270         0.0         1.0  \n",
      "860         0.0         1.0  \n",
      "435         0.0         1.0  \n",
      "102         0.0         1.0  \n",
      "\n",
      "[668 rows x 9 columns]\n",
      "\n",
      "X_val:\n",
      "     Pclass       Age  SibSp     Parch  Sex_female  Sex_male  Embarked_C  \\\n",
      "709     1.0  0.346569  0.125  0.166667         0.0       1.0         1.0   \n",
      "439     0.5  0.384267  0.000  0.000000         0.0       1.0         0.0   \n",
      "840     1.0  0.246042  0.000  0.000000         0.0       1.0         0.0   \n",
      "720     0.5  0.070118  0.000  0.166667         1.0       0.0         0.0   \n",
      "39      1.0  0.170646  0.125  0.000000         1.0       0.0         1.0   \n",
      "..      ...       ...    ...       ...         ...       ...         ...   \n",
      "880     0.5  0.308872  0.000  0.166667         1.0       0.0         0.0   \n",
      "425     1.0  0.346569  0.000  0.000000         0.0       1.0         0.0   \n",
      "101     1.0  0.346569  0.000  0.000000         0.0       1.0         0.0   \n",
      "199     0.5  0.296306  0.000  0.000000         1.0       0.0         0.0   \n",
      "424     1.0  0.220910  0.125  0.166667         0.0       1.0         0.0   \n",
      "\n",
      "     Embarked_Q  Embarked_S  \n",
      "709         0.0         0.0  \n",
      "439         0.0         1.0  \n",
      "840         0.0         1.0  \n",
      "720         0.0         1.0  \n",
      "39          0.0         0.0  \n",
      "..          ...         ...  \n",
      "880         0.0         1.0  \n",
      "425         0.0         1.0  \n",
      "101         0.0         1.0  \n",
      "199         0.0         1.0  \n",
      "424         0.0         1.0  \n",
      "\n",
      "[223 rows x 9 columns]\n"
     ]
    }
   ],
   "execution_count": 173
  },
  {
   "metadata": {},
   "cell_type": "markdown",
   "source": [
    "## Entrenament i avaluació del model\n",
    "\n",
    "Hem d'entrenar el perceptró amb les dades d'entrenament i després avaluar-lo amb les dades de validació. Hem de fer dos entrenaments, un amb la nostra implementació i un altre amb la de ``scikit-learn``. Per emprar la de ``scikit-learn``, utilitzarem la classe ``Perceptron`` de ``sklearn.linear_model``."
   ],
   "id": "8fa684e60de94a7c"
  },
  {
   "metadata": {
    "ExecuteTime": {
     "end_time": "2025-09-24T10:02:59.416115Z",
     "start_time": "2025-09-24T10:02:59.395512Z"
    }
   },
   "cell_type": "code",
   "source": [
    "model = Perceptron(max_iter=1000, random_state=42)\n",
    "model.fit(x_train, y_train)\n",
    "\n",
    "y_pred = model.predict(x_val)"
   ],
   "id": "99a1512fca79de3d",
   "outputs": [],
   "execution_count": 174
  },
  {
   "metadata": {
    "ExecuteTime": {
     "end_time": "2025-09-24T10:02:59.456840Z",
     "start_time": "2025-09-24T10:02:59.443671Z"
    }
   },
   "cell_type": "code",
   "source": [
    "acc = accuracy_score(y_val, y_pred)\n",
    "print(\"Accuracy:\", acc)\n",
    "\n",
    "cm = confusion_matrix(y_val, y_pred)\n",
    "print(\"Matriz de confusion: \\n\", cm)"
   ],
   "id": "e6ed2193b8b0e49d",
   "outputs": [
    {
     "name": "stdout",
     "output_type": "stream",
     "text": [
      "Accuracy: 0.7668161434977578\n",
      "Matriz de confusion: \n",
      " [[102  32]\n",
      " [ 20  69]]\n"
     ]
    }
   ],
   "execution_count": 175
  }
 ],
 "metadata": {
  "kernelspec": {
   "display_name": "Python 3",
   "language": "python",
   "name": "python3"
  },
  "language_info": {
   "codemirror_mode": {
    "name": "ipython",
    "version": 2
   },
   "file_extension": ".py",
   "mimetype": "text/x-python",
   "name": "python",
   "nbconvert_exporter": "python",
   "pygments_lexer": "ipython2",
   "version": "2.7.6"
  }
 },
 "nbformat": 4,
 "nbformat_minor": 5
}
